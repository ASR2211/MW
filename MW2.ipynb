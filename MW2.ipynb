{
  "nbformat": 4,
  "nbformat_minor": 0,
  "metadata": {
    "colab": {
      "provenance": []
    },
    "kernelspec": {
      "name": "python3",
      "display_name": "Python 3"
    },
    "language_info": {
      "name": "python"
    }
  },
  "cells": [
    {
      "cell_type": "code",
      "execution_count": 1,
      "metadata": {
        "colab": {
          "base_uri": "https://localhost:8080/"
        },
        "id": "_hOcluMQLb7a",
        "outputId": "7069b921-bee1-4d13-ee97-ae3b33fb58c5"
      },
      "outputs": [
        {
          "output_type": "stream",
          "name": "stdout",
          "text": [
            "Collecting rdkit\n",
            "  Downloading rdkit-2025.9.1-cp312-cp312-manylinux_2_28_x86_64.whl.metadata (4.1 kB)\n",
            "Requirement already satisfied: numpy in /usr/local/lib/python3.12/dist-packages (from rdkit) (2.0.2)\n",
            "Requirement already satisfied: Pillow in /usr/local/lib/python3.12/dist-packages (from rdkit) (11.3.0)\n",
            "Downloading rdkit-2025.9.1-cp312-cp312-manylinux_2_28_x86_64.whl (36.2 MB)\n",
            "\u001b[2K   \u001b[90m━━━━━━━━━━━━━━━━━━━━━━━━━━━━━━━━━━━━━━━━\u001b[0m \u001b[32m36.2/36.2 MB\u001b[0m \u001b[31m32.2 MB/s\u001b[0m eta \u001b[36m0:00:00\u001b[0m\n",
            "\u001b[?25hInstalling collected packages: rdkit\n",
            "Successfully installed rdkit-2025.9.1\n"
          ]
        }
      ],
      "source": [
        "!pip install rdkit\n",
        "from rdkit import Chem\n",
        "from rdkit.Chem import Descriptors, rdMolDescriptors"
      ]
    },
    {
      "cell_type": "code",
      "source": [
        "def analyser_molecule(smiles):\n",
        "    mol = Chem.MolFromSmiles(smiles)\n",
        "    if mol is None:\n",
        "        return None, None, None\n",
        "\n",
        "    # Formule brute\n",
        "    formule_brute = rdMolDescriptors.CalcMolFormula(mol)\n",
        "\n",
        "    # Masse molaire\n",
        "    masse_molaire = Descriptors.MolWt(mol)\n",
        "\n",
        "    # Masse exacte (monoisotopique)\n",
        "    masse_exacte = Descriptors.ExactMolWt(mol)\n",
        "\n",
        "    return formule_brute, masse_molaire, masse_exacte\n",
        "\n",
        "# Demander à l'utilisateur de saisir le code SMILES\n",
        "smiles = input(\"Veuillez entrer le code SMILES de la molécule : \")\n",
        "\n",
        "formule, masse, exacte = analyser_molecule(smiles)\n",
        "\n",
        "if formule is not None:\n",
        "    print(f\"Formule brute : {formule}\")\n",
        "    print(f\"Masse molaire : {masse:.2f} g/mol\")\n",
        "    print(f\"Masse exacte (monoisotopique) : {exacte:.4f} g/mol\")\n",
        "else:\n",
        "    print(\"Le code SMILES saisi est invalide ou non reconnu.\")"
      ],
      "metadata": {
        "colab": {
          "base_uri": "https://localhost:8080/"
        },
        "id": "8ILoFgSILpFb",
        "outputId": "6fdf41df-c2c4-4b7f-8a23-4aaff35697ec"
      },
      "execution_count": 3,
      "outputs": [
        {
          "output_type": "stream",
          "name": "stdout",
          "text": [
            "Veuillez entrer le code SMILES de la molécule : CCO\n",
            "Formule brute : C2H6O\n",
            "Masse molaire : 46.07 g/mol\n",
            "Masse exacte (monoisotopique) : 46.0419 g/mol\n"
          ]
        }
      ]
    }
  ]
}